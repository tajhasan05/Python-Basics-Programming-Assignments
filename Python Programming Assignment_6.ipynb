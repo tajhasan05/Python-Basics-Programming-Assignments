{
 "cells": [
  {
   "cell_type": "markdown",
   "id": "08540b42",
   "metadata": {},
   "source": [
    "#### Display Fibonacci Sequence Using Recursion"
   ]
  },
  {
   "cell_type": "code",
   "execution_count": 1,
   "id": "0be13aa0",
   "metadata": {},
   "outputs": [],
   "source": [
    "def rec_fib(n):\n",
    "    if n <= 1:\n",
    "        return n\n",
    "    else:\n",
    "        return(rec_fib(n-1) + rec_fib(n-2))\n",
    "def nterms(x):\n",
    "    if x <= 0:\n",
    "        print(\"Plese enter a positive integer\")\n",
    "    else:\n",
    "        print(\"Fibonacci sequence of\", x ,\"terms:\")\n",
    "    for i in range(x):\n",
    "        print(rec_fib(i))\n",
    "    \n"
   ]
  },
  {
   "cell_type": "code",
   "execution_count": 2,
   "id": "28ecfac7",
   "metadata": {},
   "outputs": [
    {
     "name": "stdout",
     "output_type": "stream",
     "text": [
      "Fibonacci sequence of 15 terms:\n",
      "0\n",
      "1\n",
      "1\n",
      "2\n",
      "3\n",
      "5\n",
      "8\n",
      "13\n",
      "21\n",
      "34\n",
      "55\n",
      "89\n",
      "144\n",
      "233\n",
      "377\n"
     ]
    }
   ],
   "source": [
    "nterms(15)"
   ]
  },
  {
   "cell_type": "markdown",
   "id": "5f6a90b0",
   "metadata": {},
   "source": [
    "#### Find Factorial of Number Using Recursion"
   ]
  },
  {
   "cell_type": "code",
   "execution_count": 3,
   "id": "b60c361e",
   "metadata": {},
   "outputs": [],
   "source": [
    "def recur_factorial(n):\n",
    "    if n == 1:\n",
    "        return n\n",
    "    else:\n",
    "        return n*recur_factorial(n-1)\n",
    "def number(num):\n",
    "    if num < 0:\n",
    "        print(\"Sorry, factorial does not exist for negative numbers\")\n",
    "    elif num == 0:\n",
    "        print(\"The factorial of 0 is 1\")\n",
    "    else:\n",
    "        print(\"The factorial of\", num, \"is:\", recur_factorial(num))"
   ]
  },
  {
   "cell_type": "code",
   "execution_count": 4,
   "id": "3537860d",
   "metadata": {},
   "outputs": [
    {
     "name": "stdout",
     "output_type": "stream",
     "text": [
      "The factorial of 6 is: 720\n"
     ]
    }
   ],
   "source": [
    "number(6)"
   ]
  },
  {
   "cell_type": "markdown",
   "id": "87975579",
   "metadata": {},
   "source": [
    "#### calculate your Body Mass Index"
   ]
  },
  {
   "cell_type": "code",
   "execution_count": 5,
   "id": "455b6e53",
   "metadata": {},
   "outputs": [
    {
     "name": "stdout",
     "output_type": "stream",
     "text": [
      "Enter your weight in kg.65\n",
      "Enter you height in meters1.5\n",
      "\n",
      "The BMI  is: 28.88888888888889\n",
      "you are overweight.\n"
     ]
    }
   ],
   "source": [
    "Weight = float(input(\"Enter your weight in kg.\"))\n",
    "Height = float(input(\"Enter you height in meters\"))\n",
    "bmi = Weight/(Height*Height)\n",
    "print(\"\\nThe BMI  is:\", bmi)\n",
    "if bmi<18.5:\n",
    "    print(\"you are underweight.\")\n",
    "elif (bmi>= 18.5 and bmi<24.8):\n",
    "    print(\"you are healthy.\")\n",
    "else:\n",
    "    print(\"you are overweight.\")\n"
   ]
  },
  {
   "cell_type": "markdown",
   "id": "65f018f2",
   "metadata": {},
   "source": [
    "#### calculate the natural logarithm of any number"
   ]
  },
  {
   "cell_type": "code",
   "execution_count": 6,
   "id": "66ea31e8",
   "metadata": {},
   "outputs": [],
   "source": [
    "import math\n",
    "def lognum(a):\n",
    "    print(\"Natural Logarithm of\",a,\"is:\", math.log(a))"
   ]
  },
  {
   "cell_type": "code",
   "execution_count": 7,
   "id": "48dc4cb2",
   "metadata": {},
   "outputs": [
    {
     "name": "stdout",
     "output_type": "stream",
     "text": [
      "Natural Logarithm of 14 is: 2.6390573296152584\n"
     ]
    }
   ],
   "source": [
    "lognum(14)"
   ]
  },
  {
   "cell_type": "markdown",
   "id": "64be5d16",
   "metadata": {},
   "source": [
    "#### Program for cube sum of first n natural numbers "
   ]
  },
  {
   "cell_type": "code",
   "execution_count": 8,
   "id": "b8f7f734",
   "metadata": {},
   "outputs": [],
   "source": [
    "def number(n):\n",
    "    if n>=1:\n",
    "        sum = 0\n",
    "        for i in range(n+1):\n",
    "            sum += i**3\n",
    "    else:\n",
    "        print(\"Enter only Natural number.\")\n",
    "    print(\"The cube sum of\",n,\"natural number is:\",sum)\n",
    "        "
   ]
  },
  {
   "cell_type": "code",
   "execution_count": 9,
   "id": "46749ab0",
   "metadata": {},
   "outputs": [
    {
     "name": "stdout",
     "output_type": "stream",
     "text": [
      "The cube sum of 5 natural number is: 225\n"
     ]
    }
   ],
   "source": [
    "number(5)"
   ]
  },
  {
   "cell_type": "code",
   "execution_count": null,
   "id": "1b953bb8",
   "metadata": {},
   "outputs": [],
   "source": []
  },
  {
   "cell_type": "code",
   "execution_count": null,
   "id": "d249fe61",
   "metadata": {},
   "outputs": [],
   "source": []
  }
 ],
 "metadata": {
  "kernelspec": {
   "display_name": "Python 3 (ipykernel)",
   "language": "python",
   "name": "python3"
  },
  "language_info": {
   "codemirror_mode": {
    "name": "ipython",
    "version": 3
   },
   "file_extension": ".py",
   "mimetype": "text/x-python",
   "name": "python",
   "nbconvert_exporter": "python",
   "pygments_lexer": "ipython3",
   "version": "3.9.12"
  }
 },
 "nbformat": 4,
 "nbformat_minor": 5
}
