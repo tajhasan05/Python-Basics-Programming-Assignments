{
 "cells": [
  {
   "cell_type": "markdown",
   "id": "484c9afb",
   "metadata": {},
   "source": [
    "#### find sum of array"
   ]
  },
  {
   "cell_type": "code",
   "execution_count": 1,
   "id": "d36c1693",
   "metadata": {},
   "outputs": [],
   "source": [
    "def arr_sum(arr):\n",
    "    sum = 0\n",
    "    for i in arr:\n",
    "        sum += i\n",
    "    print(\"The sum of array is\",sum)"
   ]
  },
  {
   "cell_type": "code",
   "execution_count": 2,
   "id": "d114c694",
   "metadata": {},
   "outputs": [
    {
     "name": "stdout",
     "output_type": "stream",
     "text": [
      "The sum of array is 15\n"
     ]
    }
   ],
   "source": [
    "arr_sum([1,2,3,4,5])"
   ]
  },
  {
   "cell_type": "markdown",
   "id": "238f52e6",
   "metadata": {},
   "source": [
    "#### find largest element in an array"
   ]
  },
  {
   "cell_type": "code",
   "execution_count": 3,
   "id": "1722e25c",
   "metadata": {},
   "outputs": [],
   "source": [
    "def large_arr(arr):\n",
    "    large = max(arr)\n",
    "    print(\"The larger number of array is\",large)"
   ]
  },
  {
   "cell_type": "code",
   "execution_count": 4,
   "id": "c997615b",
   "metadata": {},
   "outputs": [
    {
     "name": "stdout",
     "output_type": "stream",
     "text": [
      "The larger number of array is 11\n"
     ]
    }
   ],
   "source": [
    "large_arr([4,5,9,10,11])"
   ]
  },
  {
   "cell_type": "markdown",
   "id": "6709411a",
   "metadata": {},
   "source": [
    "#### Program for array rotation"
   ]
  },
  {
   "cell_type": "code",
   "execution_count": 5,
   "id": "66c04127",
   "metadata": {},
   "outputs": [
    {
     "name": "stdout",
     "output_type": "stream",
     "text": [
      "Array Before Rotation: \n",
      "1 2 3 4 5 6 \n",
      "\n",
      "Array after left rotation: \n",
      "4 5 6 1 2 3 "
     ]
    }
   ],
   "source": [
    "arr  = [1,2,3,4,5,6]\n",
    "shift =  3\n",
    "def print_array(arr):\n",
    "    for i in range(0, len(arr)):\n",
    "        print(arr[i], end = \" \")\n",
    "def left_rotate(arr, shift):\n",
    "    for i in range(0, shift):\n",
    "        temp = arr[0]\n",
    "        for j in range(0, len(arr)-1):\n",
    "            arr[j] = arr[j+1]\n",
    "        arr[len(arr)-1] = temp\n",
    "    return arr\n",
    "print(\"Array Before Rotation: \")\n",
    "print_array(arr)\n",
    "rotatedArray = left_rotate(arr, shift)\n",
    "print(\"\\n\\nArray after left rotation: \")\n",
    "print_array(rotatedArray)\n",
    "        "
   ]
  },
  {
   "cell_type": "markdown",
   "id": "78b74b3b",
   "metadata": {},
   "source": [
    "#### to Split the array and add the first part to the end"
   ]
  },
  {
   "cell_type": "code",
   "execution_count": 6,
   "id": "5f2bff48",
   "metadata": {},
   "outputs": [
    {
     "name": "stdout",
     "output_type": "stream",
     "text": [
      "13 16 18 19 10 12 "
     ]
    }
   ],
   "source": [
    "def split_arr(arr,n,k):\n",
    "    for i in range(0,k):\n",
    "        x = arr[0]\n",
    "        for j in range(0,n-1):\n",
    "            arr[j] = arr[j+1]\n",
    "        arr[n-1] = x\n",
    "arr = [10,12,13,16,18,19]\n",
    "n = len(arr)\n",
    "position = 2\n",
    "split_arr(arr,n,position)\n",
    "for i in range(0,n):\n",
    "    print(arr[i], end = \" \")"
   ]
  },
  {
   "cell_type": "markdown",
   "id": "2b1dd90b",
   "metadata": {},
   "source": [
    "#### Python Program to check if given array is Monotonic"
   ]
  },
  {
   "cell_type": "code",
   "execution_count": 7,
   "id": "970c45b8",
   "metadata": {},
   "outputs": [],
   "source": [
    "def isMonotonic(A):\n",
    "  \n",
    "    return (all(A[i] <= A[i + 1] for i in range(len(A) - 1)) or\n",
    "            all(A[i] >= A[i + 1] for i in range(len(A) - 1)))"
   ]
  },
  {
   "cell_type": "code",
   "execution_count": 8,
   "id": "d8003a51",
   "metadata": {},
   "outputs": [
    {
     "data": {
      "text/plain": [
       "True"
      ]
     },
     "execution_count": 8,
     "metadata": {},
     "output_type": "execute_result"
    }
   ],
   "source": [
    "isMonotonic([6,5,4,3])"
   ]
  },
  {
   "cell_type": "code",
   "execution_count": 9,
   "id": "0afce71c",
   "metadata": {},
   "outputs": [
    {
     "data": {
      "text/plain": [
       "False"
      ]
     },
     "execution_count": 9,
     "metadata": {},
     "output_type": "execute_result"
    }
   ],
   "source": [
    "isMonotonic([6,5,4,3,7])"
   ]
  },
  {
   "cell_type": "code",
   "execution_count": null,
   "id": "1aed68f5",
   "metadata": {},
   "outputs": [],
   "source": []
  }
 ],
 "metadata": {
  "kernelspec": {
   "display_name": "Python 3 (ipykernel)",
   "language": "python",
   "name": "python3"
  },
  "language_info": {
   "codemirror_mode": {
    "name": "ipython",
    "version": 3
   },
   "file_extension": ".py",
   "mimetype": "text/x-python",
   "name": "python",
   "nbconvert_exporter": "python",
   "pygments_lexer": "ipython3",
   "version": "3.9.12"
  }
 },
 "nbformat": 4,
 "nbformat_minor": 5
}
