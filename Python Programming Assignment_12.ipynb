{
 "cells": [
  {
   "cell_type": "markdown",
   "id": "335da9d1",
   "metadata": {},
   "source": [
    "#### Python program to Extract Unique values dictionary values"
   ]
  },
  {
   "cell_type": "code",
   "execution_count": 9,
   "id": "a812dc98",
   "metadata": {},
   "outputs": [
    {
     "name": "stdout",
     "output_type": "stream",
     "text": [
      "{1, 2, 3, 4, 5, 6, 7}\n"
     ]
    }
   ],
   "source": [
    "s = []\n",
    "d = {\"a\":[1,2,3,4,5],\"b\":(3,4,5,6,7),\"c\":2}\n",
    "for i in d.values():\n",
    "    if type(i)== list or type(i) == tuple:\n",
    "        for j in i:\n",
    "            s.append(j)\n",
    "else:\n",
    "    s.append(i)\n",
    "print(set(s))"
   ]
  },
  {
   "cell_type": "markdown",
   "id": "d4a3fb05",
   "metadata": {},
   "source": [
    "#### Python program to find the sum of all items in a dictionary"
   ]
  },
  {
   "cell_type": "code",
   "execution_count": 14,
   "id": "0a08d243",
   "metadata": {},
   "outputs": [
    {
     "name": "stdout",
     "output_type": "stream",
     "text": [
      "42\n"
     ]
    }
   ],
   "source": [
    "s = []\n",
    "d = {\"a\":[1,2,3,4,5],\"b\":(3,4,5,6,7),\"c\":2}\n",
    "for i in d.values():\n",
    "    if type(i)== list or type(i) == tuple:\n",
    "        for j in i:\n",
    "            s.append(j)\n",
    "    else:\n",
    "        s.append(i)\n",
    "print(sum(s))"
   ]
  },
  {
   "cell_type": "markdown",
   "id": "33178173",
   "metadata": {},
   "source": [
    "####  Python program to Merging two Dictionaries"
   ]
  },
  {
   "cell_type": "code",
   "execution_count": 22,
   "id": "009ddf03",
   "metadata": {},
   "outputs": [
    {
     "name": "stdout",
     "output_type": "stream",
     "text": [
      "{'a': [1, 2, 3, 4, 5], 'b': (4, 5, 6, 7)}\n"
     ]
    }
   ],
   "source": [
    "d = {\"a\":[1,2,3,4,5]}\n",
    "d1 = {\"b\":(4,5,6,7)}\n",
    "merge_dict = {}\n",
    "merge_dict.update(d)\n",
    "merge_dict.update(d1)\n",
    "print(merge_dict)"
   ]
  },
  {
   "cell_type": "markdown",
   "id": "33c4d4ed",
   "metadata": {},
   "source": [
    "####  Python program to convert key-values list to flat dictionary"
   ]
  },
  {
   "cell_type": "code",
   "execution_count": 24,
   "id": "d246b07c",
   "metadata": {},
   "outputs": [
    {
     "data": {
      "text/plain": [
       "{1: 'tan', 2: 'ran', 3: 'man'}"
      ]
     },
     "execution_count": 24,
     "metadata": {},
     "output_type": "execute_result"
    }
   ],
   "source": [
    "d = {\"a\":[1,2,3],\n",
    "     \"b\":['tan','ran','man']\n",
    "    }\n",
    "flat_dict = dict(zip(d[\"a\"],d[\"b\"]))\n",
    "flat_dict"
   ]
  },
  {
   "cell_type": "markdown",
   "id": "fdcbb296",
   "metadata": {},
   "source": [
    "#### Python program to insertion at the beginning in OrderedDict"
   ]
  },
  {
   "cell_type": "code",
   "execution_count": 31,
   "id": "84b1a701",
   "metadata": {},
   "outputs": [
    {
     "name": "stdout",
     "output_type": "stream",
     "text": [
      "The dictionary is :\n",
      "OrderedDict([('Will', '1'), ('James', '2'), ('Rob', '4')]) \n",
      "\n",
      "The resultant dictionary is : \n",
      "OrderedDict([('Mark', '7'), ('Will', '1'), ('James', '2'), ('Rob', '4')])\n"
     ]
    }
   ],
   "source": [
    "from collections import OrderedDict\n",
    "\n",
    "my_ordered_dict = OrderedDict([('Will', '1'), ('James', '2'), ('Rob', '4')])\n",
    "print(\"The dictionary is :\")\n",
    "print(my_ordered_dict,'\\n')\n",
    "my_ordered_dict.update({'Mark':'7'})\n",
    "my_ordered_dict.move_to_end('Mark', last = False)\n",
    "print(\"The resultant dictionary is : \")\n",
    "print(my_ordered_dict)"
   ]
  },
  {
   "cell_type": "markdown",
   "id": "23cf5c39",
   "metadata": {},
   "source": [
    "#### Python program to check order of character in string using OrderedDict()"
   ]
  },
  {
   "cell_type": "code",
   "execution_count": null,
   "id": "cb9c0f87",
   "metadata": {},
   "outputs": [],
   "source": []
  },
  {
   "cell_type": "markdown",
   "id": "d53bf6d3",
   "metadata": {},
   "source": [
    "#### Python program to sort Python Dictionaries by Key or Value"
   ]
  },
  {
   "cell_type": "code",
   "execution_count": 32,
   "id": "54ab6abb",
   "metadata": {},
   "outputs": [
    {
     "name": "stdout",
     "output_type": "stream",
     "text": [
      "black: #000000\n",
      "green: #008000\n",
      "red: #FF0000\n",
      "white: #FFFFFF\n"
     ]
    }
   ],
   "source": [
    "color_dict = {'red':'#FF0000',\n",
    "              'green':'#008000',\n",
    "              'black':'#000000',\n",
    "              'white':'#FFFFFF'\n",
    "             }\n",
    "\n",
    "for key in sorted(color_dict):\n",
    "    print(\"%s: %s\" % (key, color_dict[key]))"
   ]
  },
  {
   "cell_type": "code",
   "execution_count": null,
   "id": "9ade9a59",
   "metadata": {},
   "outputs": [],
   "source": []
  }
 ],
 "metadata": {
  "kernelspec": {
   "display_name": "Python 3 (ipykernel)",
   "language": "python",
   "name": "python3"
  },
  "language_info": {
   "codemirror_mode": {
    "name": "ipython",
    "version": 3
   },
   "file_extension": ".py",
   "mimetype": "text/x-python",
   "name": "python",
   "nbconvert_exporter": "python",
   "pygments_lexer": "ipython3",
   "version": "3.9.12"
  }
 },
 "nbformat": 4,
 "nbformat_minor": 5
}
