{
 "cells": [
  {
   "cell_type": "markdown",
   "id": "4a1c5386",
   "metadata": {},
   "source": [
    "#### Addition of two Matrices"
   ]
  },
  {
   "cell_type": "code",
   "execution_count": 1,
   "id": "cbc7ff6a",
   "metadata": {
    "scrolled": true
   },
   "outputs": [
    {
     "name": "stdout",
     "output_type": "stream",
     "text": [
      "[3, 5, 7]\n",
      "[7, 9, 11]\n",
      "[12, 14, 16]\n"
     ]
    }
   ],
   "source": [
    "x = [[1,2,3],[2,3,4],[5,6,7]]\n",
    "y = [[2,3,4],[5,6,7],[7,8,9]]\n",
    "result = [[0,0,0],[0,0,0],[0,0,0]]\n",
    "for i in range(len(x)):\n",
    "    for j in range(len(x[0])):\n",
    "        result[i][j] = x[i][j] + y[i][j]\n",
    "for r in result:\n",
    "    print(r)\n",
    "    \n",
    "        "
   ]
  },
  {
   "cell_type": "markdown",
   "id": "fa591a19",
   "metadata": {},
   "source": [
    "#### Multiply two Matrices"
   ]
  },
  {
   "cell_type": "code",
   "execution_count": 2,
   "id": "c6b15e55",
   "metadata": {},
   "outputs": [
    {
     "name": "stdout",
     "output_type": "stream",
     "text": [
      "[33, 39, 45]\n",
      "[47, 56, 65]\n",
      "[89, 107, 125]\n"
     ]
    }
   ],
   "source": [
    "x = [[1,2,3],[2,3,4],[5,6,7]]\n",
    "y = [[2,3,4],[5,6,7],[7,8,9]]\n",
    "result = [[0,0,0],\n",
    "          [0,0,0],\n",
    "          [0,0,0]]\n",
    "for i in range(len(x)):\n",
    "    for j in range(len(y[0])):\n",
    "        for k in range(len(y)):\n",
    "            result[i][j] += x[i][k] * y[k][j]\n",
    "for r in result:\n",
    "    print(r)\n",
    "        "
   ]
  },
  {
   "cell_type": "markdown",
   "id": "9b73a288",
   "metadata": {},
   "source": [
    "#### Transpose Matrix"
   ]
  },
  {
   "cell_type": "code",
   "execution_count": 3,
   "id": "741c963f",
   "metadata": {},
   "outputs": [
    {
     "name": "stdout",
     "output_type": "stream",
     "text": [
      "[1, 3, 5]\n",
      "[2, 4, 6]\n"
     ]
    }
   ],
   "source": [
    "X = [[1,2],\n",
    "     [3,4],\n",
    "     [5,6]]\n",
    "result = [[0,0,0],\n",
    "          [0,0,0]]\n",
    "for i in range(len(X)):\n",
    "    for j in range(len(X[0])):\n",
    "        result[j][i] = X[i][j]\n",
    "for r in result:\n",
    "    print(r)"
   ]
  },
  {
   "cell_type": "markdown",
   "id": "32460c90",
   "metadata": {},
   "source": [
    "#### Python Program to Sort Words in Alphabetic Order"
   ]
  },
  {
   "cell_type": "code",
   "execution_count": 4,
   "id": "82778017",
   "metadata": {},
   "outputs": [
    {
     "name": "stdout",
     "output_type": "stream",
     "text": [
      "Enter the statement: hello this is my python programming\n",
      "The sorted words are: \n",
      "hello\n",
      "is\n",
      "my\n",
      "programming\n",
      "python\n",
      "this\n"
     ]
    }
   ],
   "source": [
    "str = input(\"Enter the statement: \")\n",
    "words = [word.lower() for word in str.split()]\n",
    "words.sort()\n",
    "print(\"The sorted words are: \")\n",
    "for word in words:\n",
    "    print(word)"
   ]
  },
  {
   "cell_type": "markdown",
   "id": "3f93b5ab",
   "metadata": {},
   "source": [
    "#### Program to Remove Punctuations From a String"
   ]
  },
  {
   "cell_type": "code",
   "execution_count": 5,
   "id": "56a5d5b1",
   "metadata": {},
   "outputs": [
    {
     "name": "stdout",
     "output_type": "stream",
     "text": [
      "Enter the Statement: \"hello this is my python programming\"\n",
      "hello this is my python programming\n"
     ]
    }
   ],
   "source": [
    "punctuations = '''!()-[]{};:'\"\\,<>./?@#$%^&*_~'''\n",
    "Str = input(\"Enter the Statement: \")\n",
    "No_punctuations = \"\"\n",
    "for i in Str:\n",
    "    if i not in punctuations:\n",
    "        No_punctuations += i\n",
    "print(No_punctuations)\n",
    "        \n",
    "    "
   ]
  },
  {
   "cell_type": "code",
   "execution_count": null,
   "id": "4c312dd5",
   "metadata": {},
   "outputs": [],
   "source": []
  }
 ],
 "metadata": {
  "kernelspec": {
   "display_name": "Python 3 (ipykernel)",
   "language": "python",
   "name": "python3"
  },
  "language_info": {
   "codemirror_mode": {
    "name": "ipython",
    "version": 3
   },
   "file_extension": ".py",
   "mimetype": "text/x-python",
   "name": "python",
   "nbconvert_exporter": "python",
   "pygments_lexer": "ipython3",
   "version": "3.9.12"
  }
 },
 "nbformat": 4,
 "nbformat_minor": 5
}
