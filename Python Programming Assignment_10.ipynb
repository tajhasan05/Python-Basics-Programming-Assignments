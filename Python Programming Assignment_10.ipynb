{
 "cells": [
  {
   "cell_type": "markdown",
   "id": "32a448d5",
   "metadata": {},
   "source": [
    "#### Python program to find sum of elements in list"
   ]
  },
  {
   "cell_type": "code",
   "execution_count": 1,
   "id": "63d09ffe",
   "metadata": {},
   "outputs": [
    {
     "name": "stdout",
     "output_type": "stream",
     "text": [
      "The sum of elements in list is:  56\n"
     ]
    }
   ],
   "source": [
    "l = [2,4,6,8,10,12,14]\n",
    "sums = 0\n",
    "for i in range(len(l)):\n",
    "    sums += l[i]\n",
    "print(\"The sum of elements in list is: \", sums)\n",
    "    "
   ]
  },
  {
   "cell_type": "markdown",
   "id": "ecdf28d0",
   "metadata": {},
   "source": [
    "#### Python program to Multiply all numbers in the list"
   ]
  },
  {
   "cell_type": "code",
   "execution_count": 2,
   "id": "215ad5e8",
   "metadata": {},
   "outputs": [
    {
     "name": "stdout",
     "output_type": "stream",
     "text": [
      "The multiple of all elements in a list is:  645120\n"
     ]
    }
   ],
   "source": [
    "l = [2,4,6,8,10,12,14]\n",
    "multiple = 1\n",
    "for i in range(len(l)):\n",
    "    multiple *= l[i]\n",
    "print(\"The multiple of all elements in a list is: \", multiple)"
   ]
  },
  {
   "cell_type": "markdown",
   "id": "fc59fb52",
   "metadata": {},
   "source": [
    "#### Python program to find smallest number in a list\n"
   ]
  },
  {
   "cell_type": "code",
   "execution_count": 4,
   "id": "be839e83",
   "metadata": {},
   "outputs": [
    {
     "name": "stdout",
     "output_type": "stream",
     "text": [
      "how many elemnets in a list: 4\n",
      "Enter the element 45\n",
      "Enter the element 45\n",
      "Enter the element 34\n",
      "Enter the element 23\n",
      "The minimum element of list is  23\n"
     ]
    }
   ],
   "source": [
    "list = []\n",
    "num = int(input(\"how many elemnets in a list: \"))\n",
    "for i in range(1,num+1):\n",
    "    element = int(input(\"Enter the element \" ))\n",
    "    list.append(element)\n",
    "print(\"The minimum element of list is \",min(list))\n",
    "    "
   ]
  },
  {
   "cell_type": "markdown",
   "id": "8f31cfbe",
   "metadata": {},
   "source": [
    "#### Python program to find largest number in a list"
   ]
  },
  {
   "cell_type": "code",
   "execution_count": 5,
   "id": "45d3764c",
   "metadata": {},
   "outputs": [
    {
     "name": "stdout",
     "output_type": "stream",
     "text": [
      "how many elemnets in a list: 5\n",
      "Enter the element 67\n",
      "Enter the element 5\n",
      "Enter the element 634\n",
      "Enter the element 23\n",
      "Enter the element 23\n",
      "The minimum element of list is  634\n"
     ]
    }
   ],
   "source": [
    "list = []\n",
    "num = int(input(\"how many elemnets in a list: \"))\n",
    "for i in range(1,num+1):\n",
    "    element = int(input(\"Enter the element \" ))\n",
    "    list.append(element)\n",
    "print(\"The maximum element of list is \",max(list))\n",
    "    "
   ]
  },
  {
   "cell_type": "markdown",
   "id": "c610bee3",
   "metadata": {},
   "source": [
    "#### Python program to find second largest number in a list"
   ]
  },
  {
   "cell_type": "code",
   "execution_count": 2,
   "id": "90c91bad",
   "metadata": {},
   "outputs": [
    {
     "name": "stdout",
     "output_type": "stream",
     "text": [
      "how many elemnets in a list: 4\n",
      "enter the elements: 12\n",
      "enter the elements: 45\n",
      "enter the elements: 32\n",
      "enter the elements: 78\n",
      "The second largest element of the list is:  45\n"
     ]
    }
   ],
   "source": [
    "l = []\n",
    "num = int(input(\"how many elemnets in a list: \"))\n",
    "for i in range(1,num+1):\n",
    "    element = int(input(\"enter the elements: \"))\n",
    "    l.append(element)\n",
    "l.sort()\n",
    "print(\"The second largest element of the list is: \",l[-2])"
   ]
  },
  {
   "cell_type": "markdown",
   "id": "c4a781c1",
   "metadata": {},
   "source": [
    "#### Python program to find N largest elements from a list"
   ]
  },
  {
   "cell_type": "code",
   "execution_count": 6,
   "id": "7ad54e82",
   "metadata": {},
   "outputs": [
    {
     "name": "stdout",
     "output_type": "stream",
     "text": [
      "Enter the N = 4\n",
      "[101, 100, 99, 89]\n"
     ]
    }
   ],
   "source": [
    "def Nmaxelements(l,N):\n",
    "    final_list = []\n",
    "    for i in range(0,N):\n",
    "        max = 0\n",
    "        for j in range(len(l)):\n",
    "            if l[j]>max:\n",
    "                max = l[j]\n",
    "        l.remove(max)\n",
    "        final_list.append(max)\n",
    "    print(final_list)\n",
    "l = [45,56,67,89,99,100,101]\n",
    "N = int(input(\"Enter the N = \"))\n",
    "Nmaxelements(l,N)\n",
    "        "
   ]
  },
  {
   "cell_type": "markdown",
   "id": "871a0c81",
   "metadata": {},
   "source": [
    "#### Python program to print even numbers in a list"
   ]
  },
  {
   "cell_type": "code",
   "execution_count": 33,
   "id": "d55d9c46",
   "metadata": {},
   "outputs": [
    {
     "name": "stdout",
     "output_type": "stream",
     "text": [
      "The list of odd number is:  [24, 46, 56]\n"
     ]
    }
   ],
   "source": [
    "l = [23,24,46,56,77,59,25]\n",
    "l1 = []\n",
    "for i in l:\n",
    "    if (i%2 == 0):\n",
    "        l1.append(i)\n",
    "        \n",
    "print(\"The list of odd number is: \",l1)"
   ]
  },
  {
   "cell_type": "markdown",
   "id": "4586b59f",
   "metadata": {},
   "source": [
    "#### Python program to print even numbers in a list"
   ]
  },
  {
   "cell_type": "code",
   "execution_count": 32,
   "id": "f79b864c",
   "metadata": {},
   "outputs": [
    {
     "name": "stdout",
     "output_type": "stream",
     "text": [
      "The list of odd number is:  [23, 77, 59, 25]\n"
     ]
    }
   ],
   "source": [
    "l = [23,24,46,56,77,59,25]\n",
    "l1 = []\n",
    "for i in l:\n",
    "    if (i%2 != 0):\n",
    "        l1.append(i)\n",
    "        \n",
    "print(\"The list of odd number is: \",l1)"
   ]
  },
  {
   "cell_type": "markdown",
   "id": "39f00c81",
   "metadata": {},
   "source": [
    "#### Python program to Remove empty List from List"
   ]
  },
  {
   "cell_type": "code",
   "execution_count": 57,
   "id": "d418c340",
   "metadata": {},
   "outputs": [
    {
     "name": "stdout",
     "output_type": "stream",
     "text": [
      "[23, 24, 46, 56, 77, 59]\n"
     ]
    }
   ],
   "source": [
    "l = [23,24,46,[],56,77,[],59,[]]\n",
    "l1 = []\n",
    "for i in l:\n",
    "    if i != []:\n",
    "        l1.append(i)\n",
    "print(l1)      \n",
    "        \n",
    "\n",
    "                \n",
    "                \n",
    "\n",
    "            \n",
    "\n",
    "        "
   ]
  },
  {
   "cell_type": "markdown",
   "id": "17993763",
   "metadata": {},
   "source": [
    "####  Python program to Cloning or Copying a list"
   ]
  },
  {
   "cell_type": "code",
   "execution_count": 63,
   "id": "f0a95143",
   "metadata": {},
   "outputs": [
    {
     "name": "stdout",
     "output_type": "stream",
     "text": [
      "The clone of list 'l' is 'l1' \n",
      " l1 =  [23, 24, 46, 56, 77, 59]\n"
     ]
    }
   ],
   "source": [
    "l = [23, 24, 46, 56, 77, 59]\n",
    "l1 =[]\n",
    "for i in l:\n",
    "    l1.append(i)\n",
    "print(\"The clone of list 'l' is 'l1'\",\"\\n\",\"l1 = \",l1)"
   ]
  },
  {
   "cell_type": "markdown",
   "id": "4b7c0f70",
   "metadata": {},
   "source": [
    "#### Python program to Count occurrences of an element in a list"
   ]
  },
  {
   "cell_type": "code",
   "execution_count": 68,
   "id": "dbc2c6fb",
   "metadata": {},
   "outputs": [
    {
     "name": "stdout",
     "output_type": "stream",
     "text": [
      "enter the number to count: 46\n",
      "3\n"
     ]
    }
   ],
   "source": [
    "l = [23,24,46,46,46,56,77,56,56,56,56,23,23,23,23,23,59]\n",
    "x = int(input(\"enter the number to count: \"))\n",
    "print(l.count(x))\n",
    "    "
   ]
  },
  {
   "cell_type": "code",
   "execution_count": null,
   "id": "712ceedd",
   "metadata": {},
   "outputs": [],
   "source": []
  }
 ],
 "metadata": {
  "kernelspec": {
   "display_name": "Python 3 (ipykernel)",
   "language": "python",
   "name": "python3"
  },
  "language_info": {
   "codemirror_mode": {
    "name": "ipython",
    "version": 3
   },
   "file_extension": ".py",
   "mimetype": "text/x-python",
   "name": "python",
   "nbconvert_exporter": "python",
   "pygments_lexer": "ipython3",
   "version": "3.9.12"
  }
 },
 "nbformat": 4,
 "nbformat_minor": 5
}
