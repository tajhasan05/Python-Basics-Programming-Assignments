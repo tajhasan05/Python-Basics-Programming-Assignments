{
 "cells": [
  {
   "cell_type": "markdown",
   "id": "8841e882",
   "metadata": {},
   "source": [
    "#### Print factorial Number"
   ]
  },
  {
   "cell_type": "code",
   "execution_count": 1,
   "id": "16a8ff2c",
   "metadata": {},
   "outputs": [],
   "source": [
    "def factorial(n):\n",
    "    if n == 0:\n",
    "        return 1\n",
    "\n",
    "    return n * factorial(n-1)"
   ]
  },
  {
   "cell_type": "code",
   "execution_count": 2,
   "id": "7333f682",
   "metadata": {},
   "outputs": [
    {
     "name": "stdout",
     "output_type": "stream",
     "text": [
      "The factorial of 5 is 120\n"
     ]
    }
   ],
   "source": [
    "print( \"The factorial of 5 is\",factorial(5))"
   ]
  },
  {
   "cell_type": "markdown",
   "id": "523884fa",
   "metadata": {},
   "source": [
    "#### Display the Multiplication table"
   ]
  },
  {
   "cell_type": "code",
   "execution_count": 3,
   "id": "2e432760",
   "metadata": {},
   "outputs": [],
   "source": [
    "def Number(n):\n",
    "    for i in range(1 , 11):\n",
    "        print(n, 'x', i, '=', n*i)  "
   ]
  },
  {
   "cell_type": "code",
   "execution_count": 4,
   "id": "eccdeeba",
   "metadata": {},
   "outputs": [
    {
     "name": "stdout",
     "output_type": "stream",
     "text": [
      "10 x 1 = 10\n",
      "10 x 2 = 20\n",
      "10 x 3 = 30\n",
      "10 x 4 = 40\n",
      "10 x 5 = 50\n",
      "10 x 6 = 60\n",
      "10 x 7 = 70\n",
      "10 x 8 = 80\n",
      "10 x 9 = 90\n",
      "10 x 10 = 100\n"
     ]
    }
   ],
   "source": [
    "Number(10)"
   ]
  },
  {
   "cell_type": "markdown",
   "id": "292fb326",
   "metadata": {},
   "source": [
    "#### Print Fibonacci Sequence"
   ]
  },
  {
   "cell_type": "code",
   "execution_count": 5,
   "id": "76275dd1",
   "metadata": {},
   "outputs": [
    {
     "name": "stdout",
     "output_type": "stream",
     "text": [
      "How many terms:10\n",
      "The Fibonacci Sequence is:\n",
      "0\n",
      "1\n",
      "1\n",
      "2\n",
      "3\n",
      "5\n",
      "8\n",
      "13\n",
      "21\n",
      "34\n"
     ]
    }
   ],
   "source": [
    "n = int(input(\"How many terms:\"))\n",
    "n1,n2 = 0,1\n",
    "count = 0\n",
    "if n < 0:\n",
    "    print(\"Enter the positive nummber.\")\n",
    "elif n == 1:\n",
    "    print(\"The fibonacci sequence is\",n1)\n",
    "else:\n",
    "    print(\"The Fibonacci Sequence is:\")\n",
    "    while count < n:\n",
    "        print(n1)            \n",
    "        nth = n1 + n2\n",
    "        n1 = n2\n",
    "        n2 = nth\n",
    "        count += 1\n",
    "\n",
    "        "
   ]
  },
  {
   "cell_type": "markdown",
   "id": "d3617406",
   "metadata": {},
   "source": [
    "#### Check Armstrong Number"
   ]
  },
  {
   "cell_type": "code",
   "execution_count": 6,
   "id": "6b9cc487",
   "metadata": {},
   "outputs": [],
   "source": [
    "def isArmstrong(num):\n",
    "    sum = 0\n",
    "    temp = num\n",
    "    order = len(str(num))\n",
    "    while temp > 0:\n",
    "        digit = temp % 10\n",
    "        sum += digit ** order\n",
    "        temp //= 10\n",
    "    if num == sum:\n",
    "        print(num,\"is an Armstrong number\")\n",
    "    else:\n",
    "        print(num,\"is not an Armstrong number\")\n"
   ]
  },
  {
   "cell_type": "code",
   "execution_count": 7,
   "id": "fcb05432",
   "metadata": {},
   "outputs": [
    {
     "name": "stdout",
     "output_type": "stream",
     "text": [
      "153 is an Armstrong number\n"
     ]
    }
   ],
   "source": [
    "isArmstrong(153)"
   ]
  },
  {
   "cell_type": "code",
   "execution_count": 8,
   "id": "1408630d",
   "metadata": {},
   "outputs": [
    {
     "name": "stdout",
     "output_type": "stream",
     "text": [
      "124 is not an Armstrong number\n"
     ]
    }
   ],
   "source": [
    "isArmstrong(124)"
   ]
  },
  {
   "cell_type": "markdown",
   "id": "31531d71",
   "metadata": {},
   "source": [
    "#### Find Armstrong Number in an Interval"
   ]
  },
  {
   "cell_type": "code",
   "execution_count": 9,
   "id": "9c99fcc0",
   "metadata": {},
   "outputs": [],
   "source": [
    "def isArmstrong(x , y):\n",
    "    for n in range(x,y+1):\n",
    "        order = len(str(n))\n",
    "        sum = 0\n",
    "        temp = n\n",
    "        while temp > 0:\n",
    "            digit = temp % 10\n",
    "            sum += digit ** order\n",
    "            temp //= 10\n",
    "        if sum == n:\n",
    "            print(n)"
   ]
  },
  {
   "cell_type": "code",
   "execution_count": 10,
   "id": "b8d2f3ed",
   "metadata": {},
   "outputs": [
    {
     "name": "stdout",
     "output_type": "stream",
     "text": [
      "153\n",
      "370\n",
      "371\n",
      "407\n",
      "1634\n"
     ]
    }
   ],
   "source": [
    "isArmstrong(150 , 2000)"
   ]
  },
  {
   "cell_type": "markdown",
   "id": "8a4486bd",
   "metadata": {},
   "source": [
    "#### Sum of 'n' natural numbers"
   ]
  },
  {
   "cell_type": "code",
   "execution_count": 11,
   "id": "5ec72cb1",
   "metadata": {},
   "outputs": [],
   "source": [
    "# Sum of 'n' natural numbers formula is : n(n+1)/2\n",
    "\n",
    "def Number(n):\n",
    "    if n < 0:\n",
    "        print(\"Enter the positive number.\")\n",
    "    else:\n",
    "        sum = 0\n",
    "        while(n > 0):\n",
    "            sum += n\n",
    "            n -= 1\n",
    "        print(\"The sum is:\",sum)\n",
    "    "
   ]
  },
  {
   "cell_type": "code",
   "execution_count": 12,
   "id": "b017a3d2",
   "metadata": {},
   "outputs": [
    {
     "name": "stdout",
     "output_type": "stream",
     "text": [
      "The sum is: 136\n"
     ]
    }
   ],
   "source": [
    "Number(16)"
   ]
  },
  {
   "cell_type": "code",
   "execution_count": null,
   "id": "ef060739",
   "metadata": {},
   "outputs": [],
   "source": []
  }
 ],
 "metadata": {
  "kernelspec": {
   "display_name": "Python 3 (ipykernel)",
   "language": "python",
   "name": "python3"
  },
  "language_info": {
   "codemirror_mode": {
    "name": "ipython",
    "version": 3
   },
   "file_extension": ".py",
   "mimetype": "text/x-python",
   "name": "python",
   "nbconvert_exporter": "python",
   "pygments_lexer": "ipython3",
   "version": "3.9.12"
  }
 },
 "nbformat": 4,
 "nbformat_minor": 5
}
