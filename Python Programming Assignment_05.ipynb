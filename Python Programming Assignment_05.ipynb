{
 "cells": [
  {
   "cell_type": "markdown",
   "id": "f21a9d5c",
   "metadata": {},
   "source": [
    "#### Find LCM of given two number"
   ]
  },
  {
   "cell_type": "code",
   "execution_count": 1,
   "id": "2e0fe8b5",
   "metadata": {},
   "outputs": [],
   "source": [
    "def compute_lcm(x,y):\n",
    "    if x > y:\n",
    "        greater = x\n",
    "    else:\n",
    "        greater = y\n",
    "    while(True):\n",
    "        if (greater % x == 0) and (greater % y == 0):\n",
    "            lcm = greater\n",
    "            break\n",
    "        greater += 1\n",
    "    return lcm\n",
    "            "
   ]
  },
  {
   "cell_type": "code",
   "execution_count": 2,
   "id": "1996e43c",
   "metadata": {},
   "outputs": [
    {
     "data": {
      "text/plain": [
       "84"
      ]
     },
     "execution_count": 2,
     "metadata": {},
     "output_type": "execute_result"
    }
   ],
   "source": [
    "compute_lcm(12,14)"
   ]
  },
  {
   "cell_type": "code",
   "execution_count": 3,
   "id": "3f6028a4",
   "metadata": {},
   "outputs": [
    {
     "data": {
      "text/plain": [
       "40"
      ]
     },
     "execution_count": 3,
     "metadata": {},
     "output_type": "execute_result"
    }
   ],
   "source": [
    "compute_lcm(10,8)"
   ]
  },
  {
   "cell_type": "markdown",
   "id": "fc8a0875",
   "metadata": {},
   "source": [
    "#### Compute HCF of given two number"
   ]
  },
  {
   "cell_type": "code",
   "execution_count": 4,
   "id": "56360fcc",
   "metadata": {},
   "outputs": [],
   "source": [
    "def compute_hcf(x,y):\n",
    "    if x > y:\n",
    "        smaller = y\n",
    "    else:\n",
    "        smaller = x\n",
    "    for i in range(1, smaller + 1):\n",
    "        if ((x % i == 0) and (y % i == 0)):\n",
    "            hcf = i\n",
    "    return hcf"
   ]
  },
  {
   "cell_type": "code",
   "execution_count": 5,
   "id": "bd8c238f",
   "metadata": {},
   "outputs": [
    {
     "data": {
      "text/plain": [
       "2"
      ]
     },
     "execution_count": 5,
     "metadata": {},
     "output_type": "execute_result"
    }
   ],
   "source": [
    "compute_hcf(18,14)"
   ]
  },
  {
   "cell_type": "markdown",
   "id": "36f5155f",
   "metadata": {},
   "source": [
    "#### Convert Decimal into binary , octal , and hexadecimal"
   ]
  },
  {
   "cell_type": "code",
   "execution_count": 6,
   "id": "2af8a44f",
   "metadata": {},
   "outputs": [],
   "source": [
    "def Decimal(n):\n",
    "    print(\"The decimal value of\", n, \"is:\")\n",
    "    print(bin(n), \"in binary.\")\n",
    "    print(oct(n), \"in octal.\")\n",
    "    print(hex(n), \"in hexadecimal.\")\n"
   ]
  },
  {
   "cell_type": "code",
   "execution_count": 7,
   "id": "3b7a0999",
   "metadata": {},
   "outputs": [
    {
     "name": "stdout",
     "output_type": "stream",
     "text": [
      "The decimal value of 344 is:\n",
      "0b101011000 in binary.\n",
      "0o530 in octal.\n",
      "0x158 in hexadecimal.\n"
     ]
    }
   ],
   "source": [
    "Decimal(344)"
   ]
  },
  {
   "cell_type": "markdown",
   "id": "e9bed41f",
   "metadata": {},
   "source": [
    "#### Program To Find ASCII value of a character"
   ]
  },
  {
   "cell_type": "code",
   "execution_count": 8,
   "id": "49bc2f44",
   "metadata": {},
   "outputs": [],
   "source": [
    "def ASCII(c):\n",
    "    print(\"The ASCII value of '\" + c + \"' is\", ord(c))\n"
   ]
  },
  {
   "cell_type": "code",
   "execution_count": 9,
   "id": "cd4290f6",
   "metadata": {},
   "outputs": [
    {
     "name": "stdout",
     "output_type": "stream",
     "text": [
      "The ASCII value of 'A' is 65\n"
     ]
    }
   ],
   "source": [
    "ASCII('A')"
   ]
  },
  {
   "cell_type": "markdown",
   "id": "2a212cab",
   "metadata": {},
   "source": [
    "#### Make a Simple Calculator with 4 basic mathematical operations"
   ]
  },
  {
   "cell_type": "code",
   "execution_count": 10,
   "id": "b972ea68",
   "metadata": {},
   "outputs": [
    {
     "name": "stdout",
     "output_type": "stream",
     "text": [
      "Select operation:\n",
      "1. Add\n",
      "2. Subtract\n",
      "3. Multiply\n",
      "4. Divide\n",
      " Enter the choice:1\n",
      "Enter first number.50\n",
      "Enter second number.20\n",
      "50.0 + 20.0 = 70.0\n"
     ]
    }
   ],
   "source": [
    "def add(x,y):\n",
    "    return x + y\n",
    "def subtract(x,y):\n",
    "    return x * y\n",
    "def multiply(x,y):\n",
    "    return x * y\n",
    "def divide(x,y):\n",
    "    return x / y\n",
    "\n",
    "print(\"Select operation:\")\n",
    "print(\"1. Add\")\n",
    "print(\"2. Subtract\")\n",
    "print(\"3. Multiply\")\n",
    "print(\"4. Divide\")\n",
    "\n",
    "while(True):\n",
    "    choice = input(\" Enter the choice:\")\n",
    "    \n",
    "    if choice in ('1','2','3','4'):\n",
    "        num1 = float(input(\"Enter first number.\"))\n",
    "        num2 = float(input(\"Enter second number.\"))\n",
    "        \n",
    "        if choice == '1':\n",
    "            print(num1,'+',num2,'=',add(num1,num2))\n",
    "        elif choice == '2':\n",
    "            print(num1,'-',num2,'=',subtact(num1,num2))\n",
    "        elif choice == '3':\n",
    "            print(num1,'*',num2,'=',multiply(num1,num2))\n",
    "        elif choice == '4':\n",
    "            print(num1,'/',num2,'=',divide(num1,num2))\n",
    "        break\n",
    "    \n",
    "    else:\n",
    "        print(\"Invalid Choice.\")\n",
    "        \n",
    "           "
   ]
  },
  {
   "cell_type": "code",
   "execution_count": null,
   "id": "124142d1",
   "metadata": {},
   "outputs": [],
   "source": []
  }
 ],
 "metadata": {
  "kernelspec": {
   "display_name": "Python 3 (ipykernel)",
   "language": "python",
   "name": "python3"
  },
  "language_info": {
   "codemirror_mode": {
    "name": "ipython",
    "version": 3
   },
   "file_extension": ".py",
   "mimetype": "text/x-python",
   "name": "python",
   "nbconvert_exporter": "python",
   "pygments_lexer": "ipython3",
   "version": "3.9.12"
  }
 },
 "nbformat": 4,
 "nbformat_minor": 5
}
