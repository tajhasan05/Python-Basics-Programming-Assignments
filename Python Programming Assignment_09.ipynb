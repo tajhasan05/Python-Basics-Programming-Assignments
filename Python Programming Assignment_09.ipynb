{
 "cells": [
  {
   "cell_type": "markdown",
   "id": "22af9564",
   "metadata": {},
   "source": [
    "#### Python program to check if the given number is a Disarium Number?"
   ]
  },
  {
   "cell_type": "code",
   "execution_count": 1,
   "id": "72779d2e",
   "metadata": {},
   "outputs": [
    {
     "name": "stdout",
     "output_type": "stream",
     "text": [
      "175\n",
      "Disarium Number!\n"
     ]
    }
   ],
   "source": [
    "n = input()\n",
    "len_n = len(n)\n",
    "n=int(n)\n",
    "copy_n=n\n",
    "result = 0\n",
    "i = len_n\n",
    "while(n!=0):\n",
    "    digit = n%10\n",
    "    result=result+pow(digit,i)\n",
    "    n=int(n/10)\n",
    "    i = i - 1\n",
    "if(result==copy_n):\n",
    "    print(\"Disarium Number!\")\n",
    "else:\n",
    "    print(\"Not an Disarium Number!\")"
   ]
  },
  {
   "cell_type": "markdown",
   "id": "afd8be84",
   "metadata": {},
   "source": [
    "#### program to print all disarium numbers between 1 to 100"
   ]
  },
  {
   "cell_type": "code",
   "execution_count": 2,
   "id": "75d6550a",
   "metadata": {},
   "outputs": [
    {
     "name": "stdout",
     "output_type": "stream",
     "text": [
      "Disarium numbers between 1 and 100 are: \n",
      "1\n",
      "2\n",
      "3\n",
      "4\n",
      "5\n",
      "6\n",
      "7\n",
      "8\n",
      "9\n",
      "89\n"
     ]
    }
   ],
   "source": [
    "def Cal_length(n):\n",
    "    length = 0\n",
    "    while (n!=0):\n",
    "        length = length + 1\n",
    "        n = n//10\n",
    "    return length\n",
    "def sum_of_digit(x):\n",
    "    len = Cal_length(x)\n",
    "    rem = sum = 0\n",
    "    while (x>0):\n",
    "        rem = x%10\n",
    "        sum = sum + (rem**len)\n",
    "        x = x//10\n",
    "        len = len - 1\n",
    "    return sum\n",
    "result = 0\n",
    "print(\"Disarium numbers between 1 and 100 are: \")\n",
    "for i in range(1,101):\n",
    "    result = sum_of_digit(i)\n",
    "    if (result == i):\n",
    "        print(i)\n",
    "        \n",
    "        "
   ]
  },
  {
   "cell_type": "markdown",
   "id": "fd81796b",
   "metadata": {},
   "source": [
    "#### Python program to check if the given number is Happy Number"
   ]
  },
  {
   "cell_type": "code",
   "execution_count": 3,
   "id": "492154f0",
   "metadata": {},
   "outputs": [],
   "source": [
    "def is_happy_no(n):\n",
    "    x = set()\n",
    "    while (n != 1):\n",
    "        n = sum(int(i)**2 for i in str(n))\n",
    "        if n in x:\n",
    "            return False\n",
    "        x.add(n)\n",
    "    return True"
   ]
  },
  {
   "cell_type": "code",
   "execution_count": 4,
   "id": "890760fb",
   "metadata": {},
   "outputs": [
    {
     "data": {
      "text/plain": [
       "True"
      ]
     },
     "execution_count": 4,
     "metadata": {},
     "output_type": "execute_result"
    }
   ],
   "source": [
    "is_happy_no(19)"
   ]
  },
  {
   "cell_type": "markdown",
   "id": "087ca32b",
   "metadata": {},
   "source": [
    "#### Python program to print all happy numbers between 1 and 100?"
   ]
  },
  {
   "cell_type": "code",
   "execution_count": 5,
   "id": "83d96988",
   "metadata": {},
   "outputs": [
    {
     "name": "stdout",
     "output_type": "stream",
     "text": [
      "7 10 13 19 23 28 31 32 44 49 68 70 79 82 86 91 94 97 100 "
     ]
    }
   ],
   "source": [
    "def check_happy(number):\n",
    "    remainder = 0\n",
    "    happy_num = 0\n",
    "    while(number > 0):\n",
    "        remainder = number%10\n",
    "        happy_num = happy_num + (remainder*remainder)\n",
    "        number = number//10\n",
    "    return happy_num\n",
    "for i in range(1,101):\n",
    "    happy_num = i\n",
    "    while(happy_num != 1 and happy_num != 4):\n",
    "        happy_num = check_happy(happy_num)\n",
    "        if(happy_num == 1):\n",
    "            print(i,end=\" \")"
   ]
  },
  {
   "cell_type": "markdown",
   "id": "f36c2886",
   "metadata": {},
   "source": [
    "#### Python program to determine whether the given number is a Harshad Number?"
   ]
  },
  {
   "cell_type": "code",
   "execution_count": 6,
   "id": "08e8cb60",
   "metadata": {},
   "outputs": [
    {
     "name": "stdout",
     "output_type": "stream",
     "text": [
      "50\n",
      "50 is a Harshad number\n"
     ]
    }
   ],
   "source": [
    "num = int(input())\n",
    "rem = sum = 0\n",
    "n = num\n",
    "while(num>0):\n",
    "    rem = num%10\n",
    "    sum = sum + rem\n",
    "    num = num//10\n",
    "if(n%sum == 0):\n",
    "    print(str(n),\"is a Harshad number\")\n",
    "else:\n",
    "    print(str(n),\"is not a Harshad number\")"
   ]
  },
  {
   "cell_type": "markdown",
   "id": "ad19a54c",
   "metadata": {},
   "source": [
    "#### Python program to print all pronic numbers between 1 and 100?"
   ]
  },
  {
   "cell_type": "code",
   "execution_count": 7,
   "id": "19c14eb7",
   "metadata": {
    "scrolled": true
   },
   "outputs": [
    {
     "name": "stdout",
     "output_type": "stream",
     "text": [
      "Pronic number between 1 and 100: \n",
      "2\n",
      "\n",
      "6\n",
      "\n",
      "12\n",
      "\n",
      "20\n",
      "\n",
      "30\n",
      "\n",
      "42\n",
      "\n",
      "56\n",
      "\n",
      "72\n",
      "\n",
      "90\n",
      "\n"
     ]
    }
   ],
   "source": [
    "def pronic_no(n):\n",
    "    flag = False\n",
    "    for i in range(1,n+1):\n",
    "        if((i*(i+1)) == n):\n",
    "            flag = True\n",
    "            break\n",
    "    return flag\n",
    "print(\"Pronic number between 1 and 100: \")\n",
    "for j in range(1,101):\n",
    "    if(pronic_no(j)):\n",
    "        print(j)\n",
    "        print(\"\")"
   ]
  },
  {
   "cell_type": "code",
   "execution_count": null,
   "id": "764b51ff",
   "metadata": {},
   "outputs": [],
   "source": []
  }
 ],
 "metadata": {
  "kernelspec": {
   "display_name": "Python 3 (ipykernel)",
   "language": "python",
   "name": "python3"
  },
  "language_info": {
   "codemirror_mode": {
    "name": "ipython",
    "version": 3
   },
   "file_extension": ".py",
   "mimetype": "text/x-python",
   "name": "python",
   "nbconvert_exporter": "python",
   "pygments_lexer": "ipython3",
   "version": "3.9.12"
  }
 },
 "nbformat": 4,
 "nbformat_minor": 5
}
