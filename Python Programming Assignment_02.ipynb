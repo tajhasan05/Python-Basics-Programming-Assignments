{
 "cells": [
  {
   "cell_type": "markdown",
   "id": "e572ecbd",
   "metadata": {},
   "source": [
    "#### Convert Km to Miles"
   ]
  },
  {
   "cell_type": "code",
   "execution_count": 1,
   "id": "f546dac6",
   "metadata": {},
   "outputs": [
    {
     "name": "stdout",
     "output_type": "stream",
     "text": [
      "Enter the No. of kilometer :50\n",
      "\n",
      "50.0 kilometers is equal to 31.068550000000002 miles.\n"
     ]
    }
   ],
   "source": [
    "km = float(input(\"Enter the No. of kilometer :\"))\n",
    "conversion_km = 0.621371\n",
    "miles = km * conversion_km\n",
    "print(\"\\n{} kilometers is equal to {} miles.\".format(km,miles))"
   ]
  },
  {
   "cell_type": "markdown",
   "id": "ac121177",
   "metadata": {},
   "source": [
    "#### Convert Celsius to Farenheit"
   ]
  },
  {
   "cell_type": "code",
   "execution_count": 2,
   "id": "5a7311d2",
   "metadata": {},
   "outputs": [
    {
     "name": "stdout",
     "output_type": "stream",
     "text": [
      "Enter the Celsius :100\n",
      "\n",
      "100.0 Celsius is equal to 212.0 Farenheit.\n"
     ]
    }
   ],
   "source": [
    "Celsius = float(input(\"Enter the Celsius :\"))\n",
    "Farenheit = (Celsius * 9/5) + 32\n",
    "print(\"\\n{} Celsius is equal to {} Farenheit.\".format(Celsius,Farenheit))"
   ]
  },
  {
   "cell_type": "markdown",
   "id": "a06e2b14",
   "metadata": {},
   "source": [
    "#### Display Calender"
   ]
  },
  {
   "cell_type": "code",
   "execution_count": 3,
   "id": "10d6e4ae",
   "metadata": {},
   "outputs": [],
   "source": [
    "import calendar\n",
    "def  Cal(yy,mm):\n",
    "    print(calendar.month(yy,mm))"
   ]
  },
  {
   "cell_type": "code",
   "execution_count": 4,
   "id": "70fd39d4",
   "metadata": {},
   "outputs": [
    {
     "name": "stdout",
     "output_type": "stream",
     "text": [
      "     July 2021\n",
      "Mo Tu We Th Fr Sa Su\n",
      "          1  2  3  4\n",
      " 5  6  7  8  9 10 11\n",
      "12 13 14 15 16 17 18\n",
      "19 20 21 22 23 24 25\n",
      "26 27 28 29 30 31\n",
      "\n"
     ]
    }
   ],
   "source": [
    "Cal(2021,7)"
   ]
  },
  {
   "cell_type": "markdown",
   "id": "4e827247",
   "metadata": {},
   "source": [
    "#### Solve Quadratic Equation"
   ]
  },
  {
   "cell_type": "code",
   "execution_count": 5,
   "id": "790167f2",
   "metadata": {},
   "outputs": [],
   "source": [
    "#Solve Quadratic Equation ax**2 + bx + c = 0\n",
    "## Formula will be : (-b-(b**2 - 4*a*c)**0.5)/2*a\n",
    "def quad(a,b,c):\n",
    "    sol1 = (-b-(b**2 - 4*a*c)**0.5)/(2*a)\n",
    "    sol2 = (-b+(b**2 - 4*a*c)**0.5)/(2*a)\n",
    "    print(\"The solutions for the given Quadratic Equation : {} and {} \".format(sol1,sol2))"
   ]
  },
  {
   "cell_type": "code",
   "execution_count": 6,
   "id": "2ba35ba9",
   "metadata": {},
   "outputs": [
    {
     "name": "stdout",
     "output_type": "stream",
     "text": [
      "The solutions for the given Quadratic Equation : -1.7071067811865475 and -0.2928932188134524 \n"
     ]
    }
   ],
   "source": [
    "quad(2,4,1)"
   ]
  },
  {
   "cell_type": "markdown",
   "id": "3ba2db64",
   "metadata": {},
   "source": [
    "#### Swap two variable without using temp"
   ]
  },
  {
   "cell_type": "code",
   "execution_count": 7,
   "id": "e793570c",
   "metadata": {},
   "outputs": [
    {
     "name": "stdout",
     "output_type": "stream",
     "text": [
      "Enter the value of x :20\n",
      "Enter the value of y :30\n",
      "x =  30\n",
      "y =  20\n"
     ]
    }
   ],
   "source": [
    "x = input(\"Enter the value of x :\")\n",
    "y = input(\"Enter the value of y :\")\n",
    "x,y = y,x\n",
    "print(\"x = \", x)\n",
    "print(\"y = \", y)"
   ]
  },
  {
   "cell_type": "code",
   "execution_count": null,
   "id": "4fd46308",
   "metadata": {},
   "outputs": [],
   "source": []
  }
 ],
 "metadata": {
  "kernelspec": {
   "display_name": "Python 3 (ipykernel)",
   "language": "python",
   "name": "python3"
  },
  "language_info": {
   "codemirror_mode": {
    "name": "ipython",
    "version": 3
   },
   "file_extension": ".py",
   "mimetype": "text/x-python",
   "name": "python",
   "nbconvert_exporter": "python",
   "pygments_lexer": "ipython3",
   "version": "3.9.12"
  }
 },
 "nbformat": 4,
 "nbformat_minor": 5
}
